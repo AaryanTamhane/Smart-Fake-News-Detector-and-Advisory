{
 "cells": [
  {
   "cell_type": "code",
   "execution_count": 1,
   "id": "10371669-05c0-415e-bc81-6b468131acde",
   "metadata": {},
   "outputs": [],
   "source": [
    "import pandas as pd"
   ]
  },
  {
   "cell_type": "code",
   "execution_count": 3,
   "id": "cb402b6e-40a1-4e83-85d8-3c12ac29fbc4",
   "metadata": {},
   "outputs": [
    {
     "data": {
      "text/html": [
       "<div>\n",
       "<style scoped>\n",
       "    .dataframe tbody tr th:only-of-type {\n",
       "        vertical-align: middle;\n",
       "    }\n",
       "\n",
       "    .dataframe tbody tr th {\n",
       "        vertical-align: top;\n",
       "    }\n",
       "\n",
       "    .dataframe thead th {\n",
       "        text-align: right;\n",
       "    }\n",
       "</style>\n",
       "<table border=\"1\" class=\"dataframe\">\n",
       "  <thead>\n",
       "    <tr style=\"text-align: right;\">\n",
       "      <th></th>\n",
       "      <th>text</th>\n",
       "      <th>label</th>\n",
       "      <th>clean_text</th>\n",
       "    </tr>\n",
       "  </thead>\n",
       "  <tbody>\n",
       "    <tr>\n",
       "      <th>0</th>\n",
       "      <td>Donald Trump s White House is in chaos, and th...</td>\n",
       "      <td>fake</td>\n",
       "      <td>donald trump white hous chao tri cover russia ...</td>\n",
       "    </tr>\n",
       "    <tr>\n",
       "      <th>1</th>\n",
       "      <td>Now that Donald Trump is the presumptive GOP n...</td>\n",
       "      <td>fake</td>\n",
       "      <td>donald trump presumpt gop nomine time rememb c...</td>\n",
       "    </tr>\n",
       "    <tr>\n",
       "      <th>2</th>\n",
       "      <td>Mike Pence is a huge homophobe. He supports ex...</td>\n",
       "      <td>fake</td>\n",
       "      <td>mike penc huge homophob support exgay convers ...</td>\n",
       "    </tr>\n",
       "    <tr>\n",
       "      <th>3</th>\n",
       "      <td>SAN FRANCISCO (Reuters) - California Attorney ...</td>\n",
       "      <td>real</td>\n",
       "      <td>san francisco reuter california attorney gener...</td>\n",
       "    </tr>\n",
       "    <tr>\n",
       "      <th>4</th>\n",
       "      <td>Twisted reasoning is all that comes from Pelos...</td>\n",
       "      <td>fake</td>\n",
       "      <td>twist reason come pelosi day especi 2006 promi...</td>\n",
       "    </tr>\n",
       "  </tbody>\n",
       "</table>\n",
       "</div>"
      ],
      "text/plain": [
       "                                                text label  \\\n",
       "0  Donald Trump s White House is in chaos, and th...  fake   \n",
       "1  Now that Donald Trump is the presumptive GOP n...  fake   \n",
       "2  Mike Pence is a huge homophobe. He supports ex...  fake   \n",
       "3  SAN FRANCISCO (Reuters) - California Attorney ...  real   \n",
       "4  Twisted reasoning is all that comes from Pelos...  fake   \n",
       "\n",
       "                                          clean_text  \n",
       "0  donald trump white hous chao tri cover russia ...  \n",
       "1  donald trump presumpt gop nomine time rememb c...  \n",
       "2  mike penc huge homophob support exgay convers ...  \n",
       "3  san francisco reuter california attorney gener...  \n",
       "4  twist reason come pelosi day especi 2006 promi...  "
      ]
     },
     "execution_count": 3,
     "metadata": {},
     "output_type": "execute_result"
    }
   ],
   "source": [
    "df = pd.read_csv('processed_news_dataset.csv')\n",
    "df.head()"
   ]
  },
  {
   "cell_type": "code",
   "execution_count": 14,
   "id": "d85784d8-0001-4f86-b7ee-f33e5cef1cd1",
   "metadata": {},
   "outputs": [],
   "source": [
    "import pandas as pd \n",
    "import numpy as np \n",
    "from sklearn.model_selection import train_test_split \n",
    "from sklearn.feature_extraction.text import TfidfVectorizer \n",
    "from sklearn.naive_bayes import MultinomialNB \n",
    "from sklearn.metrics import classification_report, accuracy_score \n",
    "import joblib"
   ]
  },
  {
   "cell_type": "code",
   "execution_count": 5,
   "id": "647adb76-d5e8-4f99-bee1-b4db189102e5",
   "metadata": {},
   "outputs": [],
   "source": [
    "tfidf = TfidfVectorizer(ngram_range=(1, 2), max_features=5000, min_df=5, max_df=0.9)\n",
    "X = tfidf.fit_transform(df['text']) \n",
    "y = df['label']"
   ]
  },
  {
   "cell_type": "code",
   "execution_count": 6,
   "id": "4d7cf21d-bfad-4726-bd6b-121f918e921d",
   "metadata": {},
   "outputs": [],
   "source": [
    "X_train, X_test, y_train, y_test = train_test_split(X, y, test_size=0.2, random_state=42)"
   ]
  },
  {
   "cell_type": "code",
   "execution_count": 7,
   "id": "b246afe9-5dce-460d-bf1b-55e8b92346fb",
   "metadata": {},
   "outputs": [
    {
     "name": "stdout",
     "output_type": "stream",
     "text": [
      "📘 Naive Bayes Results:\n",
      "              precision    recall  f1-score   support\n",
      "\n",
      "        fake       0.94      0.95      0.94      2566\n",
      "        real       0.94      0.94      0.94      2434\n",
      "\n",
      "    accuracy                           0.94      5000\n",
      "   macro avg       0.94      0.94      0.94      5000\n",
      "weighted avg       0.94      0.94      0.94      5000\n",
      "\n",
      "Accuracy: 0.9434\n"
     ]
    }
   ],
   "source": [
    "nb_model = MultinomialNB() \n",
    "nb_model.fit(X_train, y_train) \n",
    "nb_preds = nb_model.predict(X_test)\n",
    "\n",
    "print(\"📘 Naive Bayes Results:\") \n",
    "print(classification_report(y_test, nb_preds))\n",
    "print(\"Accuracy:\", accuracy_score(y_test, nb_preds))"
   ]
  },
  {
   "cell_type": "code",
   "execution_count": 20,
   "id": "dd46c1d7-0473-4f0a-92a3-2ac2e038d60b",
   "metadata": {},
   "outputs": [
    {
     "name": "stdout",
     "output_type": "stream",
     "text": [
      "📰 Input News:\n",
      "A new education bill passed by Parliament ensures free textbooks for students in rural schools starting next academic year.\n",
      "\n",
      "🔍 Prediction: REAL\n",
      "📊 Confidence:\n",
      "   - Real: 0.7069\n",
      "   - Fake: 0.2931\n"
     ]
    }
   ],
   "source": [
    "# Define user_input\n",
    "user_input = \"A new education bill passed by Parliament ensures free textbooks for students in rural schools starting next academic year.\"\n",
    "\n",
    "# Transform using TF-IDF vectorizer\n",
    "vector = tfidf.transform([user_input])\n",
    "\n",
    "# Predict using trained model\n",
    "prediction = nb_model.predict(vector)[0]\n",
    "\n",
    "# Get prediction probabilities\n",
    "probas = nb_model.predict_proba(vector)[0]\n",
    "\n",
    "print(\"📰 Input News:\")\n",
    "print(user_input)\n",
    "print(\"\\n🔍 Prediction:\", prediction.upper())\n",
    "print(\"📊 Confidence:\")\n",
    "print(f\"   - Real: {probas[list(nb_model.classes_).index('real')]:.4f}\")\n",
    "print(f\"   - Fake: {probas[list(nb_model.classes_).index('fake')]:.4f}\")"
   ]
  },
  {
   "cell_type": "code",
   "execution_count": 17,
   "id": "36b6cd99-69e4-485b-9b58-0c7d5bbe8119",
   "metadata": {},
   "outputs": [],
   "source": [
    "fake_texts = df[df['label'] == 'fake']['clean_text'].tolist()"
   ]
  },
  {
   "cell_type": "code",
   "execution_count": 21,
   "id": "5a3d990d-4289-4146-b195-f37cebc3646a",
   "metadata": {},
   "outputs": [],
   "source": [
    "import matplotlib.pyplot as plt\n",
    "import seaborn as sns\n",
    "from sklearn.metrics import confusion_matrix\n",
    "import numpy as np\n"
   ]
  },
  {
   "cell_type": "code",
   "execution_count": 23,
   "id": "872e9e1f-4240-4cf5-a137-6a64576cf7f4",
   "metadata": {},
   "outputs": [],
   "source": [
    "import matplotlib.pyplot as plt\n",
    "import seaborn as sns\n",
    "from sklearn.metrics import confusion_matrix\n",
    "import numpy as np\n"
   ]
  },
  {
   "cell_type": "code",
   "execution_count": 24,
   "id": "929882e9-4566-4458-aeab-19b2b25aafda",
   "metadata": {},
   "outputs": [
    {
     "name": "stderr",
     "output_type": "stream",
     "text": [
      "/opt/anaconda3/lib/python3.12/site-packages/IPython/core/pylabtools.py:170: UserWarning: Glyph 128269 (\\N{LEFT-POINTING MAGNIFYING GLASS}) missing from font(s) DejaVu Sans.\n",
      "  fig.canvas.print_figure(bytes_io, **kw)\n"
     ]
    },
    {
     "data": {
      "image/png": "[encoded data removed]",
      "text/plain": [
       "<Figure size 640x480 with 2 Axes>"
      ]
     },
     "metadata": {},
     "output_type": "display_data"
    }
   ],
   "source": [
    "# Confusion Matrix\n",
    "cm = confusion_matrix(y_test, nb_preds, labels=nb_model.classes_)\n",
    "sns.heatmap(cm, annot=True, fmt='d', cmap='Blues', xticklabels=nb_model.classes_, yticklabels=nb_model.classes_)\n",
    "plt.xlabel('Predicted')\n",
    "plt.ylabel('Actual')\n",
    "plt.title('🔍 Confusion Matrix - Naive Bayes')\n",
    "plt.show()\n"
   ]
  },
  {
   "cell_type": "code",
   "execution_count": 25,
   "id": "112e13c9-77f2-421e-8c62-46a49db2a442",
   "metadata": {},
   "outputs": [
    {
     "name": "stderr",
     "output_type": "stream",
     "text": [
      "/var/folders/zj/lf_s1zw54s16mjdj12y6p0k00000gn/T/ipykernel_3412/3375085795.py:1: FutureWarning: \n",
      "\n",
      "Passing `palette` without assigning `hue` is deprecated and will be removed in v0.14.0. Assign the `x` variable to `hue` and set `legend=False` for the same effect.\n",
      "\n",
      "  sns.countplot(data=df, x='label', palette='Set2')\n",
      "/opt/anaconda3/lib/python3.12/site-packages/IPython/core/pylabtools.py:170: UserWarning: Glyph 128202 (\\N{BAR CHART}) missing from font(s) DejaVu Sans.\n",
      "  fig.canvas.print_figure(bytes_io, **kw)\n"
     ]
    },
    {
     "data": {
      "image/png": "[encoded data removed]",
      "text/plain": [
       "<Figure size 640x480 with 1 Axes>"
      ]
     },
     "metadata": {},
     "output_type": "display_data"
    }
   ],
   "source": [
    "sns.countplot(data=df, x='label', palette='Set2')\n",
    "plt.title('📊 Class Distribution: Real vs Fake News')\n",
    "plt.xlabel('Label')\n",
    "plt.ylabel('Count')\n",
    "plt.show()\n"
   ]
  },
  {
   "cell_type": "code",
   "execution_count": null,
   "id": "cc80a4c3-387e-4cb9-9142-b28581c1d360",
   "metadata": {},
   "outputs": [],
   "source": []
  }
 ],
 "metadata": {
  "kernelspec": {
   "display_name": "Python 3 (ipykernel)",
   "language": "python",
   "name": "python3"
  },
  "language_info": {
   "codemirror_mode": {
    "name": "ipython",
    "version": 3
   },
   "file_extension": ".py",
   "mimetype": "text/x-python",
   "name": "python",
   "nbconvert_exporter": "python",
   "pygments_lexer": "ipython3",
   "version": "3.12.7"
  }
 },
 "nbformat": 4,
 "nbformat_minor": 5
}
